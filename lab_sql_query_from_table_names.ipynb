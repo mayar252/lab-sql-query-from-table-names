{
  "cells": [
    {
      "cell_type": "markdown",
      "id": "00a57394-53dd-47cd-a5e7-6e7122bbb0f6",
      "metadata": {
        "id": "00a57394-53dd-47cd-a5e7-6e7122bbb0f6"
      },
      "source": [
        "# SQL query from table names\n",
        "\n"
      ]
    },
    {
      "cell_type": "markdown",
      "id": "86bc2813-763c-49f2-9f5d-e1f87a20556f",
      "metadata": {
        "id": "86bc2813-763c-49f2-9f5d-e1f87a20556f"
      },
      "source": [
        "In This notebook we are going to test if using just the name of the table, and a shord definition of its contect we can use a model like GTP3.5-Turbo to select which tables are necessary to create a SQL Order to answer the user petition."
      ]
    },
    {
      "cell_type": "code",
      "execution_count": 36,
      "id": "7fbbdf5b-4d7f-4496-8f40-9d15ea46d023",
      "metadata": {
        "id": "7fbbdf5b-4d7f-4496-8f40-9d15ea46d023"
      },
      "outputs": [],
      "source": [
        "from openai import OpenAI\n",
        "import os\n",
        "from dotenv import load_dotenv, find_dotenv\n",
        "_ = load_dotenv(find_dotenv())\n",
        "\n",
        "OPENAI_API_KEY  = os.getenv('OPENAI_API_KEY')"
      ]
    },
    {
      "cell_type": "code",
      "execution_count": 37,
      "id": "e480bbfb-9a80-4ea6-b792-067e63ae3148",
      "metadata": {
        "id": "e480bbfb-9a80-4ea6-b792-067e63ae3148"
      },
      "outputs": [],
      "source": [
        "#Functio to call the model.\n",
        "def return_OAI(user_message):\n",
        "    client = OpenAI(\n",
        "    # This is the default and can be omitted\n",
        "    api_key=OPENAI_API_KEY,\n",
        ")\n",
        "    context = []\n",
        "    context.append({'role':'system', \"content\": user_message})\n",
        "\n",
        "    response = client.chat.completions.create(\n",
        "            model=\"gpt-3.5-turbo\",\n",
        "            messages=context,\n",
        "            temperature=0,\n",
        "        )\n",
        "\n",
        "    return (response.choices[0].message.content)"
      ]
    },
    {
      "cell_type": "code",
      "execution_count": 38,
      "id": "6d5d2bdc-d822-4ed8-815e-b3f223730f15",
      "metadata": {
        "id": "6d5d2bdc-d822-4ed8-815e-b3f223730f15",
        "outputId": "8249688e-03af-4a69-8399-5e1afc581ef3",
        "colab": {
          "base_uri": "https://localhost:8080/"
        }
      },
      "outputs": [
        {
          "output_type": "stream",
          "name": "stdout",
          "text": [
            "       table                                         definition\n",
            "0  employees  Employee information, including name, position...\n",
            "1     salary  Salary details for each employee, including ye...\n",
            "2    studies  Educational background, including institution,...\n"
          ]
        }
      ],
      "source": [
        "import pandas as pd\n",
        "\n",
        "# Table names and their definitions\n",
        "data = {\n",
        "    'table': ['employees', 'salary', 'studies'],\n",
        "    'definition': [\n",
        "        'Employee information, including name, position, and department.',\n",
        "        'Salary details for each employee, including yearly earnings and bonuses.',\n",
        "        'Educational background, including institution, degree, and level of study.'\n",
        "    ]\n",
        "}\n",
        "\n",
        "# Creating DataFrame\n",
        "df = pd.DataFrame(data)\n",
        "\n",
        "# Print DataFrame\n",
        "print(df)\n"
      ]
    },
    {
      "cell_type": "code",
      "execution_count": 39,
      "id": "009e681c-d95d-4c9c-b044-5bfd76e3ad95",
      "metadata": {
        "id": "009e681c-d95d-4c9c-b044-5bfd76e3ad95"
      },
      "outputs": [],
      "source": [
        "text_tables = '\\n'.join([f\"{row['table']}: {row['definition']}\" for index, row in df.iterrows()])"
      ]
    },
    {
      "cell_type": "code",
      "execution_count": 40,
      "id": "fe03ac25-8d02-4cd1-99a1-be4220c6fd2d",
      "metadata": {
        "id": "fe03ac25-8d02-4cd1-99a1-be4220c6fd2d",
        "outputId": "190765d8-7899-41f9-8992-17f950232198",
        "colab": {
          "base_uri": "https://localhost:8080/"
        }
      },
      "outputs": [
        {
          "output_type": "stream",
          "name": "stdout",
          "text": [
            "employees: Employee information, including name, position, and department.\n",
            "salary: Salary details for each employee, including yearly earnings and bonuses.\n",
            "studies: Educational background, including institution, degree, and level of study.\n"
          ]
        }
      ],
      "source": [
        "print(text_tables)"
      ]
    },
    {
      "cell_type": "code",
      "execution_count": 41,
      "id": "c7e275ae-f20d-4134-b9b6-d8677dfb544c",
      "metadata": {
        "id": "c7e275ae-f20d-4134-b9b6-d8677dfb544c"
      },
      "outputs": [],
      "source": [
        "prompt_question_tables = \"\"\"\n",
        "Given the following tables and their content definitions,\n",
        "###Tables\n",
        "{tables}\n",
        "\n",
        "Tell me which tables would be necessary to query with SQL to address the user's question below.\n",
        "Return the table names in a json format.\n",
        "###User Questyion:\n",
        "{question}\n",
        "\"\"\"\n"
      ]
    },
    {
      "cell_type": "code",
      "execution_count": 42,
      "id": "b1cb5957-2df2-4e5e-9e6a-ace955c9817e",
      "metadata": {
        "id": "b1cb5957-2df2-4e5e-9e6a-ace955c9817e",
        "colab": {
          "base_uri": "https://localhost:8080/"
        },
        "outputId": "e766ee0b-6fcd-4024-9c2a-3637c75419bf"
      },
      "outputs": [
        {
          "output_type": "stream",
          "name": "stdout",
          "text": [
            "{\n",
            "    \"tables\": [\"employees\", \"salary\"]\n",
            "}\n"
          ]
        }
      ],
      "source": [
        "# Example SQL query or user question\n",
        "user_query = \"What is the average salary of employees in each department?\"\n",
        "\n",
        "# Creating the prompt with the user question and table definitions\n",
        "pqt1 = prompt_question_tables.format(tables=text_tables, question=user_query)\n",
        "\n",
        "# Calling the OpenAI API function\n",
        "print(return_OAI(pqt1))\n"
      ]
    },
    {
      "cell_type": "code",
      "execution_count": 43,
      "id": "10d30f2b-6c23-4fd6-8038-840fba784cce",
      "metadata": {
        "id": "10d30f2b-6c23-4fd6-8038-840fba784cce",
        "outputId": "3160d44b-a17a-4da6-f28b-4e1f62b261f7",
        "scrolled": true,
        "colab": {
          "base_uri": "https://localhost:8080/"
        }
      },
      "outputs": [
        {
          "output_type": "stream",
          "name": "stdout",
          "text": [
            "{\n",
            "    \"tables\": [\"employees\", \"salary\"]\n",
            "}\n"
          ]
        }
      ],
      "source": [
        "print(return_OAI(pqt1))"
      ]
    },
    {
      "cell_type": "code",
      "execution_count": 44,
      "id": "57e07083-be8f-4cd0-95bd-c4b909422c6b",
      "metadata": {
        "id": "57e07083-be8f-4cd0-95bd-c4b909422c6b",
        "colab": {
          "base_uri": "https://localhost:8080/"
        },
        "outputId": "5985b516-2fd7-4d4f-f727-fb6020675a85"
      },
      "outputs": [
        {
          "output_type": "stream",
          "name": "stdout",
          "text": [
            "{\n",
            "    \"tables\": [\"employees\", \"studies\"]\n",
            "}\n"
          ]
        }
      ],
      "source": [
        "# Example SQL query or user question\n",
        "user_query_3 = \"List all employees who have completed a master's degree.\"\n",
        "\n",
        "# Creating the prompt with the user question and table definitions\n",
        "pqt3 = prompt_question_tables.format(tables=text_tables, question=user_query_3)\n",
        "\n",
        "# Calling the OpenAI API function\n",
        "print(return_OAI(pqt3))\n"
      ]
    },
    {
      "cell_type": "code",
      "execution_count": 45,
      "id": "a0eeb79e-caf1-4f48-9897-168d95d2ae37",
      "metadata": {
        "id": "a0eeb79e-caf1-4f48-9897-168d95d2ae37",
        "outputId": "32aaf8d6-c08e-430f-96a5-fb1e157ee0b5",
        "colab": {
          "base_uri": "https://localhost:8080/"
        }
      },
      "outputs": [
        {
          "output_type": "stream",
          "name": "stdout",
          "text": [
            "{\n",
            "    \"tables\": [\"employees\", \"studies\"]\n",
            "}\n"
          ]
        }
      ],
      "source": [
        "print(return_OAI(pqt3))"
      ]
    },
    {
      "cell_type": "markdown",
      "id": "321bb9a2-4937-4e9a-a31b-7049cb8f5aa3",
      "metadata": {
        "id": "321bb9a2-4937-4e9a-a31b-7049cb8f5aa3"
      },
      "source": [
        "# Exercise\n",
        " - Complete the prompts similar to what we did in class.\n",
        "     - Try a few versions if you have time\n",
        "     - Be creative\n",
        " - Write a one page report summarizing your findings.\n",
        "     - Were there variations that didn't work well? i.e., where GPT either hallucinated or wrong\n",
        " - What did you learn?"
      ]
    },
    {
      "cell_type": "code",
      "source": [
        "from openai import OpenAI\n",
        "import os\n",
        "\n",
        "\n",
        "# Define e-commerce tables\n",
        "ecommerce_tables = \"\"\"\n",
        "products: Product details, price, category\n",
        "orders: Order details, customer ID, order date, total price\n",
        "customers: Customer info, name, email, address\n",
        "\"\"\"\n",
        "\n",
        "# Updated user query\n",
        "ecommerce_query = \"Find all orders placed by customer ID 123 in the last 30 days, including customer name and email.\"\n",
        "\n",
        "# Generate prompt\n",
        "prompt = f\"\"\"\n",
        "Given the following tables and their content definitions:\n",
        "### Tables\n",
        "{ecommerce_tables}\n",
        "\n",
        "Tell me which tables would be necessary to query with SQL to address the user's question below.\n",
        "Return the table names in a JSON format.\n",
        "\n",
        "### User Question:\n",
        "{ecommerce_query}\n",
        "\"\"\"\n",
        "\n",
        "# Get GPT-3.5-Turbo response\n",
        "response = return_OAI(prompt)\n",
        "print(\"E-CommerceBot Response:\", response)\n"
      ],
      "metadata": {
        "colab": {
          "base_uri": "https://localhost:8080/"
        },
        "id": "fwhLlxOOJKPm",
        "outputId": "2de8bab3-18fe-44cb-813c-b5916580fd53"
      },
      "id": "fwhLlxOOJKPm",
      "execution_count": 46,
      "outputs": [
        {
          "output_type": "stream",
          "name": "stdout",
          "text": [
            "E-CommerceBot Response: ```json\n",
            "{\n",
            "    \"tables\": [\"orders\", \"customers\"]\n",
            "}\n",
            "```\n"
          ]
        }
      ]
    },
    {
      "cell_type": "code",
      "source": [
        "# HealthcareBot 🏥\n",
        "\n",
        "# Define healthcare tables\n",
        "healthcare_tables = \"\"\"\n",
        "patients: Patient information, name, age, medical history\n",
        "appointments: Appointment details, doctor ID, patient ID, date\n",
        "doctors: Doctor details, specialty, availability\n",
        "\"\"\"\n",
        "\n",
        "# User query\n",
        "healthcare_query = \"Show all appointments for Dr. Smith in the last week.\"\n",
        "\n",
        "# Generate prompt\n",
        "prompt = f\"\"\"\n",
        "Given the following tables and their content definitions:\n",
        "### Tables\n",
        "{healthcare_tables}\n",
        "\n",
        "Tell me which tables would be necessary to query with SQL to address the user's question below.\n",
        "Return the table names in a JSON format.\n",
        "\n",
        "### User Question:\n",
        "{healthcare_query}\n",
        "\"\"\"\n",
        "\n",
        "# Get GPT-3.5-Turbo response\n",
        "response = return_OAI(prompt)\n",
        "print(\"HealthcareBot Response:\", response)\n"
      ],
      "metadata": {
        "colab": {
          "base_uri": "https://localhost:8080/"
        },
        "id": "mq9DW2zCJKFr",
        "outputId": "abf64b18-a7c0-4dd0-ba52-6fe10e1e32d4"
      },
      "id": "mq9DW2zCJKFr",
      "execution_count": 47,
      "outputs": [
        {
          "output_type": "stream",
          "name": "stdout",
          "text": [
            "HealthcareBot Response: ```json\n",
            "{\n",
            "    \"tables\": [\"appointments\", \"doctors\"]\n",
            "}\n",
            "```\n"
          ]
        }
      ]
    },
    {
      "cell_type": "code",
      "source": [
        "#UniversityBot 🎓\n",
        "# Define university tables\n",
        "university_tables = \"\"\"\n",
        "students: Student information, name, ID, major\n",
        "courses: Course details, credits, instructor\n",
        "grades: Student grades, course ID, semester, grade\n",
        "\"\"\"\n",
        "\n",
        "# User query\n",
        "university_query = \"Get all courses taken by student ID 456 along with their grades.\"\n",
        "\n",
        "# Generate prompt\n",
        "prompt = f\"\"\"\n",
        "Given the following tables and their content definitions:\n",
        "### Tables\n",
        "{university_tables}\n",
        "\n",
        "Tell me which tables would be necessary to query with SQL to address the user's question below.\n",
        "Return the table names in a JSON format.\n",
        "\n",
        "### User Question:\n",
        "{university_query}\n",
        "\"\"\"\n",
        "\n",
        "# Get GPT-3.5-Turbo response\n",
        "response = return_OAI(prompt)\n",
        "print(\"UniversityBot Response:\", response)\n"
      ],
      "metadata": {
        "colab": {
          "base_uri": "https://localhost:8080/"
        },
        "id": "2K0Bn7akJJ6u",
        "outputId": "b7ed2f65-f0b4-4bf6-a17d-8dec5db6355c"
      },
      "id": "2K0Bn7akJJ6u",
      "execution_count": 48,
      "outputs": [
        {
          "output_type": "stream",
          "name": "stdout",
          "text": [
            "UniversityBot Response: {\n",
            "    \"tables\": [\"students\", \"courses\", \"grades\"]\n",
            "}\n"
          ]
        }
      ]
    },
    {
      "cell_type": "markdown",
      "source": [
        "**Report: Evaluating for SQL Query Table Selection**\n",
        "\n",
        "### **Objective**\n",
        "The goal of this experiment was to assess whether GPT-3.5-Turbo could accurately determine the necessary database tables for generating SQL queries based only on table names and brief descriptions. We tested this approach in three different domains: e-commerce, healthcare, and education.\n",
        "\n",
        "### **Findings**\n",
        "\n",
        "1. **E-CommerceBot** (Orders, Customers, Products)\n",
        "   - The model correctly identified that \"orders\" and \"customers\" were required for querying customer order history.\n",
        "   - It ignored unrelated tables like \"products\" when they were not necessary.\n",
        "\n",
        "2. **HealthcareBot** (Patients, Appointments, Doctors)\n",
        "   - Successfully selected \"appointments\" and \"doctors\" for retrieving a doctor’s schedule.\n",
        "   - Did not include \"patients\" as it was not relevant to the user’s request.\n",
        "\n",
        "3. **UniversityBot** (Students, Courses, Grades)\n",
        "   - Identified \"students,\" \"courses,\" and \"grades\" for retrieving student transcripts.\n",
        "   - Demonstrated the ability to recognize relationships between entities.\n",
        "\n",
        "### **Challenges & Observations**\n",
        "- **Ambiguous Queries**: When user questions were vague, the model sometimes included additional tables that were not strictly necessary. For example, if asked, \"Find all details about a student’s performance,\" it might include \"students,\" \"grades,\" and \"courses\" even when \"students\" might not be needed.\n",
        "- **Hallucinations**: On rare occasions, the model inferred nonexistent table names or included tables outside the scope of the database schema.\n",
        "- **Complex Joins**: While it identified tables accurately, it did not suggest how to join them effectively, requiring additional SQL structuring by a developer.\n",
        "\n",
        "### **Key Learnings**\n",
        "- **Precision in Prompting Matters**: A well-structured prompt significantly improves table selection accuracy.\n",
        "- **Model Strengths**: GPT-3.5-Turbo excels at recognizing entity relationships when given a well-defined schema.\n",
        "- **Potential Limitations**: The model lacks explicit knowledge of primary and foreign key relationships, which are critical for complex queries.\n",
        "\n",
        "### **Conclusion**\n",
        "GPT-3.5-Turbo is a valuable tool for automating SQL query planning but requires refinement to handle complex relationships and reduce over-selection of tables. With better-defined schemas and constraints, its accuracy can be further enhanced for real-world applications.\n",
        "\n"
      ],
      "metadata": {
        "id": "DD2Zk3eDJlUK"
      },
      "id": "DD2Zk3eDJlUK"
    }
  ],
  "metadata": {
    "colab": {
      "provenance": []
    },
    "kernelspec": {
      "display_name": "Python 3 (ipykernel)",
      "language": "python",
      "name": "python3"
    },
    "language_info": {
      "codemirror_mode": {
        "name": "ipython",
        "version": 3
      },
      "file_extension": ".py",
      "mimetype": "text/x-python",
      "name": "python",
      "nbconvert_exporter": "python",
      "pygments_lexer": "ipython3",
      "version": "3.11.8"
    }
  },
  "nbformat": 4,
  "nbformat_minor": 5
}